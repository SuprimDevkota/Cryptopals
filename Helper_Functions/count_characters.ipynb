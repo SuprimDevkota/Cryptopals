{
 "cells": [
  {
   "cell_type": "code",
   "execution_count": 8,
   "metadata": {},
   "outputs": [],
   "source": [
    "from string import ascii_lowercase\n",
    "\n",
    "with open(\"romeo_juliet.txt\", 'r', encoding='utf-8') as file:\n",
    "    lines = file.read()"
   ]
  },
  {
   "cell_type": "code",
   "execution_count": 9,
   "metadata": {},
   "outputs": [
    {
     "data": {
      "text/plain": [
       "{'a': 0.07570509197644527,\n",
       " 'b': 0.01506809356256039,\n",
       " 'c': 0.02196860585951031,\n",
       " 'd': 0.039352062861205815,\n",
       " 'e': 0.12440976463510237,\n",
       " 'f': 0.019315965069005122,\n",
       " 'g': 0.018158283349437566,\n",
       " 'h': 0.06452936136077737,\n",
       " 'i': 0.06135713113708045,\n",
       " 'j': 0.0014676122586643817,\n",
       " 'k': 0.008796557947895207,\n",
       " 'l': 0.04496727498131301,\n",
       " 'm': 0.028805308927822647,\n",
       " 'n': 0.0644108585075933,\n",
       " 'o': 0.08501212375344114,\n",
       " 'p': 0.014603197753915153,\n",
       " 'q': 0.0006654390986490675,\n",
       " 'r': 0.062241344733915516,\n",
       " 's': 0.06252392846073909,\n",
       " 't': 0.09279684964722612,\n",
       " 'u': 0.03432024940292793,\n",
       " 'v': 0.010036280104282511,\n",
       " 'w': 0.022132686733149807,\n",
       " 'x': 0.0014220342382089662,\n",
       " 'y': 0.02565130991230789,\n",
       " 'z': 0.00027346812273249346}"
      ]
     },
     "execution_count": 9,
     "metadata": {},
     "output_type": "execute_result"
    }
   ],
   "source": [
    "lower_frequencies = {}\n",
    "l = sum(c.islower() for c in lines)\n",
    "for letter in ascii_lowercase:\n",
    "    lower_frequencies[letter] = lines.count(letter) / l\n",
    "\n",
    "lower_frequencies"
   ]
  },
  {
   "cell_type": "code",
   "execution_count": null,
   "metadata": {},
   "outputs": [],
   "source": []
  }
 ],
 "metadata": {
  "kernelspec": {
   "display_name": "Python 3",
   "language": "python",
   "name": "python3"
  },
  "language_info": {
   "codemirror_mode": {
    "name": "ipython",
    "version": 3
   },
   "file_extension": ".py",
   "mimetype": "text/x-python",
   "name": "python",
   "nbconvert_exporter": "python",
   "pygments_lexer": "ipython3",
   "version": "3.10.11"
  }
 },
 "nbformat": 4,
 "nbformat_minor": 2
}
